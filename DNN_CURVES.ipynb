{
  "nbformat": 4,
  "nbformat_minor": 0,
  "metadata": {
    "colab": {
      "provenance": []
    },
    "kernelspec": {
      "name": "python3",
      "display_name": "Python 3"
    },
    "language_info": {
      "name": "python"
    }
  },
  "cells": [
    {
      "cell_type": "code",
      "execution_count": null,
      "metadata": {
        "id": "O_InVy-xfxfm"
      },
      "outputs": [],
      "source": [
        "import pandas as pd\n",
        "import numpy as np\n",
        "from keras.models import Sequential\n",
        "from keras.layers import Dense\n",
        "from keras.layers import Input\n",
        "from keras.utils import np_utils"
      ]
    },
    {
      "cell_type": "code",
      "source": [
        "dataset = pd.read_csv('heart.csv')"
      ],
      "metadata": {
        "id": "8IidP0JygGak"
      },
      "execution_count": null,
      "outputs": []
    },
    {
      "cell_type": "code",
      "source": [
        "X = dataset.iloc[:, 3:-1].values\n",
        "y = dataset.iloc[:, -1].values"
      ],
      "metadata": {
        "id": "0-rqGpqlgJ4Y"
      },
      "execution_count": null,
      "outputs": []
    },
    {
      "cell_type": "code",
      "source": [
        "from sklearn.preprocessing import LabelEncoder\n",
        "le = LabelEncoder()\n",
        "X[:, 2] = le.fit_transform(X[:, 2])"
      ],
      "metadata": {
        "id": "qzrIojJ9gN8H"
      },
      "execution_count": null,
      "outputs": []
    },
    {
      "cell_type": "code",
      "source": [
        "from sklearn.model_selection import train_test_split\n",
        "X_train, X_test, y_train, y_test = train_test_split(X, y, test_size = 0.1, random_state = 0)\n",
        "X_train.shape, y_train.shape, X_test.shape, y_test.shape"
      ],
      "metadata": {
        "colab": {
          "base_uri": "https://localhost:8080/"
        },
        "id": "V7dwifXCgRJM",
        "outputId": "ed1541f0-7bba-4696-8a6f-47fe8b6fe27e"
      },
      "execution_count": null,
      "outputs": [
        {
          "output_type": "execute_result",
          "data": {
            "text/plain": [
              "((272, 10), (272,), (31, 10), (31,))"
            ]
          },
          "metadata": {},
          "execution_count": 46
        }
      ]
    },
    {
      "cell_type": "code",
      "source": [
        "from sklearn.preprocessing import StandardScaler\n",
        "sc = StandardScaler()\n",
        "X_train = sc.fit_transform(X_train)\n",
        "X_test = sc.transform(X_test)"
      ],
      "metadata": {
        "id": "WwpbkJ07gUcg"
      },
      "execution_count": null,
      "outputs": []
    },
    {
      "cell_type": "code",
      "source": [
        "model = Sequential()\n",
        "model.add(Dense(12, input_dim=10, activation='relu'))\n",
        "model.add(Dense(8, activation='relu'))\n",
        "model.add(Dense(1, activation='sigmoid'))"
      ],
      "metadata": {
        "id": "qu3pScrigYHb"
      },
      "execution_count": null,
      "outputs": []
    },
    {
      "cell_type": "code",
      "source": [
        "model.compile(loss='binary_crossentropy', optimizer='adam', metrics=['accuracy'])"
      ],
      "metadata": {
        "id": "dvHycMS0gcxe"
      },
      "execution_count": null,
      "outputs": []
    },
    {
      "cell_type": "code",
      "source": [
        "history=model.fit(X, y, epochs=60, batch_size=32,validation_data=(X_test,y_test))"
      ],
      "metadata": {
        "colab": {
          "base_uri": "https://localhost:8080/"
        },
        "id": "sGrSxGH8gf8r",
        "outputId": "01b8838d-506f-47a9-f88a-0c7ce736c991"
      },
      "execution_count": null,
      "outputs": [
        {
          "output_type": "stream",
          "name": "stdout",
          "text": [
            "Epoch 1/60\n",
            "10/10 [==============================] - 1s 18ms/step - loss: 5.6886 - accuracy: 0.4554 - val_loss: 0.7738 - val_accuracy: 0.4194\n",
            "Epoch 2/60\n",
            "10/10 [==============================] - 0s 4ms/step - loss: 1.2188 - accuracy: 0.4950 - val_loss: 0.7679 - val_accuracy: 0.4516\n",
            "Epoch 3/60\n",
            "10/10 [==============================] - 0s 4ms/step - loss: 0.8039 - accuracy: 0.5743 - val_loss: 0.7655 - val_accuracy: 0.4516\n",
            "Epoch 4/60\n",
            "10/10 [==============================] - 0s 4ms/step - loss: 0.7248 - accuracy: 0.6073 - val_loss: 0.7645 - val_accuracy: 0.4516\n",
            "Epoch 5/60\n",
            "10/10 [==============================] - 0s 4ms/step - loss: 0.7064 - accuracy: 0.5974 - val_loss: 0.7641 - val_accuracy: 0.4516\n",
            "Epoch 6/60\n",
            "10/10 [==============================] - 0s 4ms/step - loss: 0.6978 - accuracy: 0.5842 - val_loss: 0.7638 - val_accuracy: 0.4516\n",
            "Epoch 7/60\n",
            "10/10 [==============================] - 0s 4ms/step - loss: 0.6930 - accuracy: 0.5875 - val_loss: 0.7639 - val_accuracy: 0.4516\n",
            "Epoch 8/60\n",
            "10/10 [==============================] - 0s 4ms/step - loss: 0.6900 - accuracy: 0.5842 - val_loss: 0.7642 - val_accuracy: 0.4516\n",
            "Epoch 9/60\n",
            "10/10 [==============================] - 0s 4ms/step - loss: 0.6875 - accuracy: 0.5908 - val_loss: 0.7643 - val_accuracy: 0.4194\n",
            "Epoch 10/60\n",
            "10/10 [==============================] - 0s 4ms/step - loss: 0.6858 - accuracy: 0.5842 - val_loss: 0.7646 - val_accuracy: 0.4194\n",
            "Epoch 11/60\n",
            "10/10 [==============================] - 0s 4ms/step - loss: 0.6831 - accuracy: 0.5842 - val_loss: 0.7645 - val_accuracy: 0.3871\n",
            "Epoch 12/60\n",
            "10/10 [==============================] - 0s 4ms/step - loss: 0.6813 - accuracy: 0.5842 - val_loss: 0.7645 - val_accuracy: 0.3871\n",
            "Epoch 13/60\n",
            "10/10 [==============================] - 0s 4ms/step - loss: 0.6804 - accuracy: 0.5809 - val_loss: 0.7644 - val_accuracy: 0.3871\n",
            "Epoch 14/60\n",
            "10/10 [==============================] - 0s 4ms/step - loss: 0.6791 - accuracy: 0.5842 - val_loss: 0.7642 - val_accuracy: 0.3871\n",
            "Epoch 15/60\n",
            "10/10 [==============================] - 0s 4ms/step - loss: 0.6777 - accuracy: 0.5875 - val_loss: 0.7643 - val_accuracy: 0.3871\n",
            "Epoch 16/60\n",
            "10/10 [==============================] - 0s 4ms/step - loss: 0.6771 - accuracy: 0.5842 - val_loss: 0.7646 - val_accuracy: 0.3871\n",
            "Epoch 17/60\n",
            "10/10 [==============================] - 0s 4ms/step - loss: 0.6759 - accuracy: 0.5842 - val_loss: 0.7649 - val_accuracy: 0.3871\n",
            "Epoch 18/60\n",
            "10/10 [==============================] - 0s 4ms/step - loss: 0.6758 - accuracy: 0.5809 - val_loss: 0.7651 - val_accuracy: 0.3548\n",
            "Epoch 19/60\n",
            "10/10 [==============================] - 0s 4ms/step - loss: 0.6747 - accuracy: 0.5842 - val_loss: 0.7649 - val_accuracy: 0.3548\n",
            "Epoch 20/60\n",
            "10/10 [==============================] - 0s 4ms/step - loss: 0.6732 - accuracy: 0.5842 - val_loss: 0.7654 - val_accuracy: 0.3548\n",
            "Epoch 21/60\n",
            "10/10 [==============================] - 0s 4ms/step - loss: 0.6728 - accuracy: 0.5776 - val_loss: 0.7656 - val_accuracy: 0.3548\n",
            "Epoch 22/60\n",
            "10/10 [==============================] - 0s 4ms/step - loss: 0.6723 - accuracy: 0.5875 - val_loss: 0.7658 - val_accuracy: 0.3548\n",
            "Epoch 23/60\n",
            "10/10 [==============================] - 0s 4ms/step - loss: 0.6707 - accuracy: 0.5875 - val_loss: 0.7659 - val_accuracy: 0.3548\n",
            "Epoch 24/60\n",
            "10/10 [==============================] - 0s 3ms/step - loss: 0.6704 - accuracy: 0.5875 - val_loss: 0.7660 - val_accuracy: 0.3548\n",
            "Epoch 25/60\n",
            "10/10 [==============================] - 0s 4ms/step - loss: 0.6682 - accuracy: 0.5908 - val_loss: 0.7659 - val_accuracy: 0.3548\n",
            "Epoch 26/60\n",
            "10/10 [==============================] - 0s 4ms/step - loss: 0.6684 - accuracy: 0.5908 - val_loss: 0.7660 - val_accuracy: 0.3548\n",
            "Epoch 27/60\n",
            "10/10 [==============================] - 0s 4ms/step - loss: 0.6675 - accuracy: 0.5974 - val_loss: 0.7662 - val_accuracy: 0.3548\n",
            "Epoch 28/60\n",
            "10/10 [==============================] - 0s 4ms/step - loss: 0.6667 - accuracy: 0.5974 - val_loss: 0.7662 - val_accuracy: 0.3548\n",
            "Epoch 29/60\n",
            "10/10 [==============================] - 0s 4ms/step - loss: 0.6651 - accuracy: 0.6040 - val_loss: 0.7661 - val_accuracy: 0.3548\n",
            "Epoch 30/60\n",
            "10/10 [==============================] - 0s 4ms/step - loss: 0.6634 - accuracy: 0.6073 - val_loss: 0.7659 - val_accuracy: 0.3548\n",
            "Epoch 31/60\n",
            "10/10 [==============================] - 0s 4ms/step - loss: 0.6585 - accuracy: 0.6205 - val_loss: 0.7657 - val_accuracy: 0.3548\n",
            "Epoch 32/60\n",
            "10/10 [==============================] - 0s 4ms/step - loss: 0.6560 - accuracy: 0.6205 - val_loss: 0.7656 - val_accuracy: 0.3548\n",
            "Epoch 33/60\n",
            "10/10 [==============================] - 0s 4ms/step - loss: 0.6516 - accuracy: 0.6370 - val_loss: 0.7652 - val_accuracy: 0.3548\n",
            "Epoch 34/60\n",
            "10/10 [==============================] - 0s 4ms/step - loss: 0.6435 - accuracy: 0.6469 - val_loss: 0.7654 - val_accuracy: 0.3548\n",
            "Epoch 35/60\n",
            "10/10 [==============================] - 0s 5ms/step - loss: 0.6459 - accuracy: 0.6502 - val_loss: 0.7658 - val_accuracy: 0.3226\n",
            "Epoch 36/60\n",
            "10/10 [==============================] - 0s 4ms/step - loss: 0.6495 - accuracy: 0.6469 - val_loss: 0.7679 - val_accuracy: 0.3226\n",
            "Epoch 37/60\n",
            "10/10 [==============================] - 0s 4ms/step - loss: 0.6404 - accuracy: 0.6502 - val_loss: 0.7679 - val_accuracy: 0.3226\n",
            "Epoch 38/60\n",
            "10/10 [==============================] - 0s 4ms/step - loss: 0.6392 - accuracy: 0.6535 - val_loss: 0.7682 - val_accuracy: 0.3226\n",
            "Epoch 39/60\n",
            "10/10 [==============================] - 0s 4ms/step - loss: 0.6386 - accuracy: 0.6535 - val_loss: 0.7692 - val_accuracy: 0.2903\n",
            "Epoch 40/60\n",
            "10/10 [==============================] - 0s 4ms/step - loss: 0.6361 - accuracy: 0.6502 - val_loss: 0.7700 - val_accuracy: 0.2903\n",
            "Epoch 41/60\n",
            "10/10 [==============================] - 0s 4ms/step - loss: 0.6342 - accuracy: 0.6568 - val_loss: 0.7704 - val_accuracy: 0.2903\n",
            "Epoch 42/60\n",
            "10/10 [==============================] - 0s 4ms/step - loss: 0.6348 - accuracy: 0.6502 - val_loss: 0.7709 - val_accuracy: 0.2903\n",
            "Epoch 43/60\n",
            "10/10 [==============================] - 0s 4ms/step - loss: 0.6328 - accuracy: 0.6502 - val_loss: 0.7718 - val_accuracy: 0.2903\n",
            "Epoch 44/60\n",
            "10/10 [==============================] - 0s 4ms/step - loss: 0.6332 - accuracy: 0.6469 - val_loss: 0.7724 - val_accuracy: 0.3226\n",
            "Epoch 45/60\n",
            "10/10 [==============================] - 0s 4ms/step - loss: 0.6319 - accuracy: 0.6568 - val_loss: 0.7728 - val_accuracy: 0.3226\n",
            "Epoch 46/60\n",
            "10/10 [==============================] - 0s 4ms/step - loss: 0.6298 - accuracy: 0.6568 - val_loss: 0.7736 - val_accuracy: 0.2903\n",
            "Epoch 47/60\n",
            "10/10 [==============================] - 0s 4ms/step - loss: 0.6308 - accuracy: 0.6568 - val_loss: 0.7746 - val_accuracy: 0.2581\n",
            "Epoch 48/60\n",
            "10/10 [==============================] - 0s 4ms/step - loss: 0.6283 - accuracy: 0.6535 - val_loss: 0.7751 - val_accuracy: 0.2581\n",
            "Epoch 49/60\n",
            "10/10 [==============================] - 0s 4ms/step - loss: 0.6283 - accuracy: 0.6502 - val_loss: 0.7754 - val_accuracy: 0.2581\n",
            "Epoch 50/60\n",
            "10/10 [==============================] - 0s 5ms/step - loss: 0.6270 - accuracy: 0.6535 - val_loss: 0.7763 - val_accuracy: 0.2581\n",
            "Epoch 51/60\n",
            "10/10 [==============================] - 0s 4ms/step - loss: 0.6261 - accuracy: 0.6535 - val_loss: 0.7773 - val_accuracy: 0.2581\n",
            "Epoch 52/60\n",
            "10/10 [==============================] - 0s 4ms/step - loss: 0.6261 - accuracy: 0.6568 - val_loss: 0.7779 - val_accuracy: 0.2581\n",
            "Epoch 53/60\n",
            "10/10 [==============================] - 0s 4ms/step - loss: 0.6247 - accuracy: 0.6535 - val_loss: 0.7787 - val_accuracy: 0.2581\n",
            "Epoch 54/60\n",
            "10/10 [==============================] - 0s 4ms/step - loss: 0.6237 - accuracy: 0.6568 - val_loss: 0.7796 - val_accuracy: 0.2581\n",
            "Epoch 55/60\n",
            "10/10 [==============================] - 0s 4ms/step - loss: 0.6244 - accuracy: 0.6469 - val_loss: 0.7804 - val_accuracy: 0.2581\n",
            "Epoch 56/60\n",
            "10/10 [==============================] - 0s 4ms/step - loss: 0.6279 - accuracy: 0.6502 - val_loss: 0.7810 - val_accuracy: 0.2581\n",
            "Epoch 57/60\n",
            "10/10 [==============================] - 0s 4ms/step - loss: 0.6248 - accuracy: 0.6535 - val_loss: 0.7806 - val_accuracy: 0.2581\n",
            "Epoch 58/60\n",
            "10/10 [==============================] - 0s 4ms/step - loss: 0.6244 - accuracy: 0.6502 - val_loss: 0.7814 - val_accuracy: 0.2258\n",
            "Epoch 59/60\n",
            "10/10 [==============================] - 0s 4ms/step - loss: 0.6222 - accuracy: 0.6502 - val_loss: 0.7829 - val_accuracy: 0.2258\n",
            "Epoch 60/60\n",
            "10/10 [==============================] - 0s 4ms/step - loss: 0.6215 - accuracy: 0.6601 - val_loss: 0.7829 - val_accuracy: 0.2258\n"
          ]
        }
      ]
    },
    {
      "cell_type": "code",
      "source": [
        "history.history.keys()"
      ],
      "metadata": {
        "colab": {
          "base_uri": "https://localhost:8080/"
        },
        "id": "X-7nOkzGgl3E",
        "outputId": "884da186-7fff-49bf-94cd-6937889868d3"
      },
      "execution_count": null,
      "outputs": [
        {
          "output_type": "execute_result",
          "data": {
            "text/plain": [
              "dict_keys(['loss', 'accuracy', 'val_loss', 'val_accuracy'])"
            ]
          },
          "metadata": {},
          "execution_count": 51
        }
      ]
    },
    {
      "cell_type": "code",
      "source": [
        "import matplotlib.pyplot as plt\n",
        "loss=history.history['loss']\n",
        "val_loss=history.history['val_loss']\n",
        "epochs=range(1, len(loss)+1)\n",
        "#acc=history.history['accuracy']\n",
        "#val_acc=history.history['val_accuracy']\n",
        "plt.plot(epochs,loss,'y',label='Training loss ')\n",
        "plt.plot(epochs,val_loss,'r',label='Validation loss ')\n",
        "plt.title('Training and Validation Loss')\n",
        "plt.ylabel('loss')\n",
        "plt.xlabel('epoch')\n",
        "plt.legend()\n",
        "plt.show()"
      ],
      "metadata": {
        "colab": {
          "base_uri": "https://localhost:8080/",
          "height": 295
        },
        "id": "k0i8RM3Sg4z7",
        "outputId": "d801dfd7-3c23-4b1c-9b71-3aab0a1180aa"
      },
      "execution_count": null,
      "outputs": [
        {
          "output_type": "display_data",
          "data": {
            "text/plain": [
              "<Figure size 432x288 with 1 Axes>"
            ],
            "image/png": "[encoded data removed]"
          },
          "metadata": {
            "needs_background": "light"
          }
        }
      ]
    },
    {
      "cell_type": "code",
      "source": [
        "import matplotlib.pyplot as plt\n",
        "acc=history.history['accuracy']\n",
        "val_acc=history.history['val_accuracy']\n",
        "plt.plot(epochs,acc,'y',label='Training Accuracy')\n",
        "plt.plot(epochs,val_acc,'r',label='Validation Accuracy ')\n",
        "plt.title('Training and Validation Accuracy')\n",
        "plt.ylabel('accuracy')\n",
        "plt.xlabel('epoch')\n",
        "plt.legend()\n",
        "plt.show()"
      ],
      "metadata": {
        "colab": {
          "base_uri": "https://localhost:8080/",
          "height": 295
        },
        "id": "2aS2dVEwhFlU",
        "outputId": "dad32c91-90c6-4333-a64a-8e2d450d4e4a"
      },
      "execution_count": null,
      "outputs": [
        {
          "output_type": "display_data",
          "data": {
            "text/plain": [
              "<Figure size 432x288 with 1 Axes>"
            ],
            "image/png": "[encoded data removed]"
          },
          "metadata": {
            "needs_background": "light"
          }
        }
      ]
    },
    {
      "cell_type": "code",
      "source": [
        "from sklearn.metrics import roc_auc_score\n",
        "from sklearn.metrics import roc_curve\n",
        "from tensorflow import keras\n",
        "probs=model.predict(X_test)\n",
        "probs=probs[:,0]\n",
        "auc=roc_auc_score(y_test,probs)\n",
        "print(auc)\n",
        "fpr,tpr,thresh=roc_curve(y_test,probs)\n",
        "plt.plot([0,1],[0,1],linestyle='--')\n",
        "plt.plot(fpr,tpr,marker=\".\",color=\"red\")"
      ],
      "metadata": {
        "colab": {
          "base_uri": "https://localhost:8080/",
          "height": 300
        },
        "id": "efAUHEGRhM-L",
        "outputId": "d9e3c1f7-7049-474c-c0e6-5c3998f54402"
      },
      "execution_count": null,
      "outputs": [
        {
          "output_type": "stream",
          "name": "stdout",
          "text": [
            "0.2142857142857143\n"
          ]
        },
        {
          "output_type": "execute_result",
          "data": {
            "text/plain": [
              "[<matplotlib.lines.Line2D at 0x7fcca30e7610>]"
            ]
          },
          "metadata": {},
          "execution_count": 54
        },
        {
          "output_type": "display_data",
          "data": {
            "text/plain": [
              "<Figure size 432x288 with 1 Axes>"
            ],
            "image/png": "[encoded data removed]"
          },
          "metadata": {
            "needs_background": "light"
          }
        }
      ]
    }
  ]
}